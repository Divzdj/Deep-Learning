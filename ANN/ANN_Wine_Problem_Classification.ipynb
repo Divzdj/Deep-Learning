{
 "cells": [
  {
   "cell_type": "code",
   "execution_count": 16,
   "id": "afd1ff23-77f3-49e2-9681-57c2d254373d",
   "metadata": {},
   "outputs": [],
   "source": [
    "import pandas as pd\n",
    "import matplotlib.pyplot as plt\n",
    "from sklearn.model_selection import train_test_split\n",
    "from sklearn.preprocessing import MinMaxScaler\n",
    "\n",
    "import tensorflow as tf\n",
    "from tensorflow.keras.models import Sequential\n",
    "from tensorflow.keras.layers import Dense,Dropout\n",
    "from tensorflow.keras.optimizers import Adam,SGD,Adagrad"
   ]
  },
  {
   "cell_type": "code",
   "execution_count": 2,
   "id": "ba62b101-4811-4bec-bd26-e3477765fcf7",
   "metadata": {},
   "outputs": [],
   "source": [
    "data=pd.read_csv(\"wine.csv\")"
   ]
  },
  {
   "cell_type": "code",
   "execution_count": 3,
   "id": "9c64c775-8614-442f-8ebc-2ec0fd5eeff3",
   "metadata": {},
   "outputs": [
    {
     "data": {
      "text/html": [
       "<div>\n",
       "<style scoped>\n",
       "    .dataframe tbody tr th:only-of-type {\n",
       "        vertical-align: middle;\n",
       "    }\n",
       "\n",
       "    .dataframe tbody tr th {\n",
       "        vertical-align: top;\n",
       "    }\n",
       "\n",
       "    .dataframe thead th {\n",
       "        text-align: right;\n",
       "    }\n",
       "</style>\n",
       "<table border=\"1\" class=\"dataframe\">\n",
       "  <thead>\n",
       "    <tr style=\"text-align: right;\">\n",
       "      <th></th>\n",
       "      <th>fixed acidity</th>\n",
       "      <th>volatile acidity</th>\n",
       "      <th>citric acid</th>\n",
       "      <th>residual sugar</th>\n",
       "      <th>chlorides</th>\n",
       "      <th>free sulfur dioxide</th>\n",
       "      <th>total sulfur dioxide</th>\n",
       "      <th>density</th>\n",
       "      <th>pH</th>\n",
       "      <th>sulphates</th>\n",
       "      <th>alcohol</th>\n",
       "      <th>quality</th>\n",
       "      <th>type</th>\n",
       "    </tr>\n",
       "  </thead>\n",
       "  <tbody>\n",
       "    <tr>\n",
       "      <th>0</th>\n",
       "      <td>7.4</td>\n",
       "      <td>0.70</td>\n",
       "      <td>0.00</td>\n",
       "      <td>1.9</td>\n",
       "      <td>0.076</td>\n",
       "      <td>11.0</td>\n",
       "      <td>34.0</td>\n",
       "      <td>0.9978</td>\n",
       "      <td>3.51</td>\n",
       "      <td>0.56</td>\n",
       "      <td>9.4</td>\n",
       "      <td>5</td>\n",
       "      <td>red</td>\n",
       "    </tr>\n",
       "    <tr>\n",
       "      <th>1</th>\n",
       "      <td>7.8</td>\n",
       "      <td>0.88</td>\n",
       "      <td>0.00</td>\n",
       "      <td>2.6</td>\n",
       "      <td>0.098</td>\n",
       "      <td>25.0</td>\n",
       "      <td>67.0</td>\n",
       "      <td>0.9968</td>\n",
       "      <td>3.20</td>\n",
       "      <td>0.68</td>\n",
       "      <td>9.8</td>\n",
       "      <td>5</td>\n",
       "      <td>red</td>\n",
       "    </tr>\n",
       "    <tr>\n",
       "      <th>2</th>\n",
       "      <td>7.8</td>\n",
       "      <td>0.76</td>\n",
       "      <td>0.04</td>\n",
       "      <td>2.3</td>\n",
       "      <td>0.092</td>\n",
       "      <td>15.0</td>\n",
       "      <td>54.0</td>\n",
       "      <td>0.9970</td>\n",
       "      <td>3.26</td>\n",
       "      <td>0.65</td>\n",
       "      <td>9.8</td>\n",
       "      <td>5</td>\n",
       "      <td>red</td>\n",
       "    </tr>\n",
       "    <tr>\n",
       "      <th>3</th>\n",
       "      <td>11.2</td>\n",
       "      <td>0.28</td>\n",
       "      <td>0.56</td>\n",
       "      <td>1.9</td>\n",
       "      <td>0.075</td>\n",
       "      <td>17.0</td>\n",
       "      <td>60.0</td>\n",
       "      <td>0.9980</td>\n",
       "      <td>3.16</td>\n",
       "      <td>0.58</td>\n",
       "      <td>9.8</td>\n",
       "      <td>6</td>\n",
       "      <td>red</td>\n",
       "    </tr>\n",
       "    <tr>\n",
       "      <th>4</th>\n",
       "      <td>7.4</td>\n",
       "      <td>0.70</td>\n",
       "      <td>0.00</td>\n",
       "      <td>1.9</td>\n",
       "      <td>0.076</td>\n",
       "      <td>11.0</td>\n",
       "      <td>34.0</td>\n",
       "      <td>0.9978</td>\n",
       "      <td>3.51</td>\n",
       "      <td>0.56</td>\n",
       "      <td>9.4</td>\n",
       "      <td>5</td>\n",
       "      <td>red</td>\n",
       "    </tr>\n",
       "  </tbody>\n",
       "</table>\n",
       "</div>"
      ],
      "text/plain": [
       "   fixed acidity  volatile acidity  citric acid  residual sugar  chlorides  \\\n",
       "0            7.4              0.70         0.00             1.9      0.076   \n",
       "1            7.8              0.88         0.00             2.6      0.098   \n",
       "2            7.8              0.76         0.04             2.3      0.092   \n",
       "3           11.2              0.28         0.56             1.9      0.075   \n",
       "4            7.4              0.70         0.00             1.9      0.076   \n",
       "\n",
       "   free sulfur dioxide  total sulfur dioxide  density    pH  sulphates  \\\n",
       "0                 11.0                  34.0   0.9978  3.51       0.56   \n",
       "1                 25.0                  67.0   0.9968  3.20       0.68   \n",
       "2                 15.0                  54.0   0.9970  3.26       0.65   \n",
       "3                 17.0                  60.0   0.9980  3.16       0.58   \n",
       "4                 11.0                  34.0   0.9978  3.51       0.56   \n",
       "\n",
       "   alcohol  quality type  \n",
       "0      9.4        5  red  \n",
       "1      9.8        5  red  \n",
       "2      9.8        5  red  \n",
       "3      9.8        6  red  \n",
       "4      9.4        5  red  "
      ]
     },
     "execution_count": 3,
     "metadata": {},
     "output_type": "execute_result"
    }
   ],
   "source": [
    "data.head()"
   ]
  },
  {
   "cell_type": "code",
   "execution_count": 4,
   "id": "f73f370b-6485-4d3a-813e-141811429206",
   "metadata": {},
   "outputs": [
    {
     "data": {
      "text/plain": [
       "1177"
      ]
     },
     "execution_count": 4,
     "metadata": {},
     "output_type": "execute_result"
    }
   ],
   "source": [
    "data.duplicated().sum()"
   ]
  },
  {
   "cell_type": "code",
   "execution_count": 5,
   "id": "c0a4eeb7-81b6-497d-9d6c-eeadf38c7866",
   "metadata": {},
   "outputs": [],
   "source": [
    "data=data.drop_duplicates()"
   ]
  },
  {
   "cell_type": "code",
   "execution_count": 6,
   "id": "e483255a-7633-4df4-9694-96c5832f4b50",
   "metadata": {},
   "outputs": [
    {
     "data": {
      "text/plain": [
       "0"
      ]
     },
     "execution_count": 6,
     "metadata": {},
     "output_type": "execute_result"
    }
   ],
   "source": [
    "data.duplicated().sum()"
   ]
  },
  {
   "cell_type": "code",
   "execution_count": 7,
   "id": "b631d7a3-2d91-4e15-8bb8-d8ca397b9b14",
   "metadata": {},
   "outputs": [
    {
     "data": {
      "text/plain": [
       "fixed acidity           0\n",
       "volatile acidity        0\n",
       "citric acid             0\n",
       "residual sugar          0\n",
       "chlorides               0\n",
       "free sulfur dioxide     0\n",
       "total sulfur dioxide    0\n",
       "density                 0\n",
       "pH                      0\n",
       "sulphates               0\n",
       "alcohol                 0\n",
       "quality                 0\n",
       "type                    0\n",
       "dtype: int64"
      ]
     },
     "execution_count": 7,
     "metadata": {},
     "output_type": "execute_result"
    }
   ],
   "source": [
    "data.isnull().sum()"
   ]
  },
  {
   "cell_type": "code",
   "execution_count": 8,
   "id": "890a5b99-f110-420f-9b42-22412e915871",
   "metadata": {},
   "outputs": [],
   "source": [
    "data[\"type\"]=data[\"type\"].map({\"red\":0,\"white\":1})"
   ]
  },
  {
   "cell_type": "code",
   "execution_count": 9,
   "id": "e7aa4f83-8480-4bbd-bf4f-917310eafdc1",
   "metadata": {},
   "outputs": [],
   "source": [
    "x=data.drop(\"type\",axis=1)\n",
    "y=data[\"type\"]"
   ]
  },
  {
   "cell_type": "code",
   "execution_count": 10,
   "id": "3f96a880-acef-4686-aca3-b31516c2b77a",
   "metadata": {},
   "outputs": [],
   "source": [
    "x_train,x_test,y_train,y_test=train_test_split(x,y,test_size=0.2,random_state=23)"
   ]
  },
  {
   "cell_type": "code",
   "execution_count": 11,
   "id": "87aa4cbd-4f73-4924-92f7-8ccce6f874ce",
   "metadata": {},
   "outputs": [
    {
     "data": {
      "text/plain": [
       "(4256, 12)"
      ]
     },
     "execution_count": 11,
     "metadata": {},
     "output_type": "execute_result"
    }
   ],
   "source": [
    "x_train.shape"
   ]
  },
  {
   "cell_type": "code",
   "execution_count": 12,
   "id": "dbbb3b3d-2607-4ee0-96d3-f1913c0eca7f",
   "metadata": {},
   "outputs": [],
   "source": [
    "scaler=MinMaxScaler()\n",
    "x_train=scaler.fit_transform(x_train)\n",
    "x_test=scaler.transform(x_test)"
   ]
  },
  {
   "cell_type": "code",
   "execution_count": 13,
   "id": "494483f3-4f5f-4240-b435-4677d49b4536",
   "metadata": {},
   "outputs": [
    {
     "name": "stdout",
     "output_type": "stream",
     "text": [
      "WARNING:tensorflow:From D:\\Anaconda\\Lib\\site-packages\\keras\\src\\backend.py:873: The name tf.get_default_graph is deprecated. Please use tf.compat.v1.get_default_graph instead.\n",
      "\n",
      "Model: \"sequential\"\n",
      "_________________________________________________________________\n",
      " Layer (type)                Output Shape              Param #   \n",
      "=================================================================\n",
      " dense (Dense)               (None, 100)               1300      \n",
      "                                                                 \n",
      " dense_1 (Dense)             (None, 200)               20200     \n",
      "                                                                 \n",
      " dropout (Dropout)           (None, 200)               0         \n",
      "                                                                 \n",
      " dense_2 (Dense)             (None, 300)               60300     \n",
      "                                                                 \n",
      " dense_3 (Dense)             (None, 100)               30100     \n",
      "                                                                 \n",
      " dropout_1 (Dropout)         (None, 100)               0         \n",
      "                                                                 \n",
      " dense_4 (Dense)             (None, 50)                5050      \n",
      "                                                                 \n",
      " dense_5 (Dense)             (None, 1)                 51        \n",
      "                                                                 \n",
      "=================================================================\n",
      "Total params: 117001 (457.04 KB)\n",
      "Trainable params: 117001 (457.04 KB)\n",
      "Non-trainable params: 0 (0.00 Byte)\n",
      "_________________________________________________________________\n"
     ]
    }
   ],
   "source": [
    "model=Sequential()\n",
    "model.add(Dense(100,input_dim=12,activation=\"relu\"))\n",
    "model.add(Dense(200,activation=\"relu\"))\n",
    "model.add(Dropout(0.5))\n",
    "model.add(Dense(300,activation=\"relu\"))\n",
    "model.add(Dense(100,activation=\"relu\"))\n",
    "model.add(Dropout(0.3))\n",
    "model.add(Dense(50,activation=\"relu\"))\n",
    "model.add(Dense(1,activation=\"sigmoid\"))\n",
    "\n",
    "callbacks=tf.keras.callbacks.EarlyStopping(monitor=\"val_accuracy\",patience=10)\n",
    "model.compile(loss=\"binary_crossentropy\",optimizer=SGD(learning_rate=0.05),metrics=[\"accuracy\"])\n",
    "model.summary()"
   ]
  },
  {
   "cell_type": "code",
   "execution_count": 14,
   "id": "e5e150af-3ea7-4551-90bf-aa3ec0a61fd8",
   "metadata": {},
   "outputs": [
    {
     "name": "stdout",
     "output_type": "stream",
     "text": [
      "Epoch 1/200\n",
      "WARNING:tensorflow:From D:\\Anaconda\\Lib\\site-packages\\keras\\src\\utils\\tf_utils.py:492: The name tf.ragged.RaggedTensorValue is deprecated. Please use tf.compat.v1.ragged.RaggedTensorValue instead.\n",
      "\n",
      "WARNING:tensorflow:From D:\\Anaconda\\Lib\\site-packages\\keras\\src\\engine\\base_layer_utils.py:384: The name tf.executing_eagerly_outside_functions is deprecated. Please use tf.compat.v1.executing_eagerly_outside_functions instead.\n",
      "\n",
      "9/9 [==============================] - 2s 69ms/step - loss: 0.6546 - accuracy: 0.7373 - val_loss: 0.6222 - val_accuracy: 0.7481\n",
      "Epoch 2/200\n",
      "9/9 [==============================] - 0s 26ms/step - loss: 0.6102 - accuracy: 0.7437 - val_loss: 0.5899 - val_accuracy: 0.7481\n",
      "Epoch 3/200\n",
      "9/9 [==============================] - 0s 24ms/step - loss: 0.5841 - accuracy: 0.7437 - val_loss: 0.5702 - val_accuracy: 0.7481\n",
      "Epoch 4/200\n",
      "9/9 [==============================] - 0s 22ms/step - loss: 0.5694 - accuracy: 0.7437 - val_loss: 0.5582 - val_accuracy: 0.7481\n",
      "Epoch 5/200\n",
      "9/9 [==============================] - 0s 21ms/step - loss: 0.5613 - accuracy: 0.7437 - val_loss: 0.5511 - val_accuracy: 0.7481\n",
      "Epoch 6/200\n",
      "9/9 [==============================] - 0s 21ms/step - loss: 0.5543 - accuracy: 0.7437 - val_loss: 0.5453 - val_accuracy: 0.7481\n",
      "Epoch 7/200\n",
      "9/9 [==============================] - 0s 22ms/step - loss: 0.5514 - accuracy: 0.7437 - val_loss: 0.5401 - val_accuracy: 0.7481\n",
      "Epoch 8/200\n",
      "9/9 [==============================] - 0s 23ms/step - loss: 0.5469 - accuracy: 0.7437 - val_loss: 0.5343 - val_accuracy: 0.7481\n",
      "Epoch 9/200\n",
      "9/9 [==============================] - 0s 22ms/step - loss: 0.5409 - accuracy: 0.7437 - val_loss: 0.5277 - val_accuracy: 0.7481\n",
      "Epoch 10/200\n",
      "9/9 [==============================] - 0s 21ms/step - loss: 0.5351 - accuracy: 0.7437 - val_loss: 0.5195 - val_accuracy: 0.7481\n",
      "Epoch 11/200\n",
      "9/9 [==============================] - 0s 21ms/step - loss: 0.5293 - accuracy: 0.7437 - val_loss: 0.5085 - val_accuracy: 0.7481\n"
     ]
    }
   ],
   "source": [
    "training_info=model.fit(x_train,y_train,batch_size=500,epochs=200,validation_data=(x_test,y_test),callbacks=callbacks)"
   ]
  },
  {
   "cell_type": "code",
   "execution_count": 15,
   "id": "bcab5d7c-1407-42ea-8273-5b7dd9b0301c",
   "metadata": {},
   "outputs": [],
   "source": [
    "hist=training_info.history"
   ]
  },
  {
   "cell_type": "code",
   "execution_count": 17,
   "id": "5b2c9bbb-0ff7-45ab-af72-de0236ad139f",
   "metadata": {},
   "outputs": [
    {
     "data": {
      "text/plain": [
       "<matplotlib.legend.Legend at 0x19d6ce31a50>"
      ]
     },
     "execution_count": 17,
     "metadata": {},
     "output_type": "execute_result"
    },
    {
     "data": {
      "image/png": "[encoded data removed]",
      "text/plain": [
       "<Figure size 640x480 with 1 Axes>"
      ]
     },
     "metadata": {},
     "output_type": "display_data"
    }
   ],
   "source": [
    "plt.plot(hist[\"loss\"],label=\"training_loss\",color=\"green\")\n",
    "plt.plot(hist[\"val_loss\"],label=\"validation_loss\",color=\"red\")\n",
    "plt.xlabel(\"epochs\")\n",
    "plt.ylabel(\"loss\")\n",
    "plt.legend()"
   ]
  },
  {
   "cell_type": "code",
   "execution_count": 19,
   "id": "cb432788-ddd6-4329-9d2d-15a70f85024f",
   "metadata": {},
   "outputs": [
    {
     "data": {
      "text/plain": [
       "<matplotlib.legend.Legend at 0x19d6f1c7310>"
      ]
     },
     "execution_count": 19,
     "metadata": {},
     "output_type": "execute_result"
    },
    {
     "data": {
      "image/png": "[encoded data removed]",
      "text/plain": [
       "<Figure size 640x480 with 1 Axes>"
      ]
     },
     "metadata": {},
     "output_type": "display_data"
    }
   ],
   "source": [
    "plt.plot(hist[\"accuracy\"],label=\"training_accuracy\",color=\"green\")\n",
    "plt.plot(hist[\"val_accuracy\"],label=\"Validation_accuracy\",color=\"red\")\n",
    "plt.xlabel(\"epochs\")\n",
    "plt.ylabel(\"loss\")\n",
    "plt.legend()"
   ]
  },
  {
   "cell_type": "code",
   "execution_count": 20,
   "id": "56123b20-dbe7-4479-a522-1612973a59a1",
   "metadata": {},
   "outputs": [
    {
     "name": "stdout",
     "output_type": "stream",
     "text": [
      "34/34 [==============================] - 0s 3ms/step\n"
     ]
    }
   ],
   "source": [
    "y_pred=model.predict(x_test)"
   ]
  },
  {
   "cell_type": "code",
   "execution_count": 21,
   "id": "0862dc00-8e95-4a89-a8a9-64dcca04d139",
   "metadata": {},
   "outputs": [
    {
     "data": {
      "text/plain": [
       "array([[0.77255744],\n",
       "       [0.7979638 ],\n",
       "       [0.7211852 ],\n",
       "       ...,\n",
       "       [0.7616514 ],\n",
       "       [0.7737692 ],\n",
       "       [0.783162  ]], dtype=float32)"
      ]
     },
     "execution_count": 21,
     "metadata": {},
     "output_type": "execute_result"
    }
   ],
   "source": [
    "y_pred"
   ]
  },
  {
   "cell_type": "code",
   "execution_count": 23,
   "id": "c8c7bdc9-97e1-4c9c-962c-8c1d2514083a",
   "metadata": {},
   "outputs": [],
   "source": [
    "y_pred=((y_pred[:,0])>0.5).astype(\"int\")"
   ]
  },
  {
   "cell_type": "code",
   "execution_count": 24,
   "id": "c2b25028-3d77-4fa3-b866-f4361a334148",
   "metadata": {},
   "outputs": [
    {
     "data": {
      "text/plain": [
       "array([1, 1, 1, ..., 1, 1, 1])"
      ]
     },
     "execution_count": 24,
     "metadata": {},
     "output_type": "execute_result"
    }
   ],
   "source": [
    "y_pred"
   ]
  },
  {
   "cell_type": "code",
   "execution_count": null,
   "id": "ff726178-20a3-4be7-b5b7-ae65b5ab7979",
   "metadata": {},
   "outputs": [],
   "source": [
    "pd.DataFrame({\"TrueV\"})"
   ]
  }
 ],
 "metadata": {
  "kernelspec": {
   "display_name": "Python 3 (ipykernel)",
   "language": "python",
   "name": "python3"
  },
  "language_info": {
   "codemirror_mode": {
    "name": "ipython",
    "version": 3
   },
   "file_extension": ".py",
   "mimetype": "text/x-python",
   "name": "python",
   "nbconvert_exporter": "python",
   "pygments_lexer": "ipython3",
   "version": "3.11.5"
  }
 },
 "nbformat": 4,
 "nbformat_minor": 5
}
